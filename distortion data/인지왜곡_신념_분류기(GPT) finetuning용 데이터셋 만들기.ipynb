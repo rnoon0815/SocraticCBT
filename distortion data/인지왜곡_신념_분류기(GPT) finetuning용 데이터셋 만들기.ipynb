{
  "nbformat": 4,
  "nbformat_minor": 0,
  "metadata": {
    "colab": {
      "provenance": []
    },
    "kernelspec": {
      "name": "python3",
      "display_name": "Python 3"
    },
    "language_info": {
      "name": "python"
    }
  },
  "cells": [
    {
      "cell_type": "code",
      "execution_count": 1,
      "metadata": {
        "colab": {
          "base_uri": "https://localhost:8080/"
        },
        "id": "_OhFfwwl6djT",
        "outputId": "72302d0f-eba8-4bd6-d4aa-5569db153ecb"
      },
      "outputs": [
        {
          "output_type": "stream",
          "name": "stdout",
          "text": [
            "JSONL 파일 생성 완료: distortions_seed_finetune_data.jsonl\n",
            "JSONL 파일 생성 완료: distortions_test_finetune_data.jsonl\n"
          ]
        }
      ],
      "source": [
        "import json\n",
        "\n",
        "def create_prompt_completion(entry, field):\n",
        "    prompt = entry.get(field, \"\").strip()\n",
        "    if not prompt:\n",
        "        return None\n",
        "    prompt += \"\\n\\n###\\n\\n\"\n",
        "    distortions = entry.get(\"distortions\", [])\n",
        "    if not distortions:\n",
        "        return None\n",
        "    completion = \" \" + \", \".join(distortions)\n",
        "    return {\"prompt\": prompt, \"completion\": completion}\n",
        "\n",
        "def convert_json_to_jsonl(input_json_path, output_jsonl_path):\n",
        "    with open(input_json_path, \"r\", encoding=\"utf-8\") as f:\n",
        "        data = json.load(f)\n",
        "\n",
        "    output = []\n",
        "    for entry in data:\n",
        "        for field in [\"ori_text\", \"situation\", \"thoughts\"]:\n",
        "            item = create_prompt_completion(entry, field)\n",
        "            if item:\n",
        "                output.append(item)\n",
        "\n",
        "    with open(output_jsonl_path, \"w\", encoding=\"utf-8\") as f:\n",
        "        for obj in output:\n",
        "            f.write(json.dumps(obj, ensure_ascii=False) + \"\\n\")\n",
        "\n",
        "    print(f\"JSONL 파일 생성 완료: {output_jsonl_path}\")\n",
        "\n",
        "def merge_jsonl_files(file1_path, file2_path, output_path):\n",
        "    with open(output_path, 'w', encoding='utf-8') as outfile:\n",
        "        for file_path in [file1_path, file2_path]:\n",
        "            with open(file_path, 'r', encoding='utf-8') as infile:\n",
        "                for line in infile:\n",
        "                    # 빈 줄 무시\n",
        "                    if line.strip():\n",
        "                        outfile.write(line)\n",
        "\n",
        "# 사용 예시\n",
        "convert_json_to_jsonl(\"distortions_seed.json\", \"distortions_seed_finetune_data.jsonl\")\n",
        "convert_json_to_jsonl(\"distortions_test.json\", \"distortions_test_finetune_data.jsonl\")\n",
        "merge_jsonl_files('distortions_seed_finetune_data.jsonl', 'distortions_test_finetune_data.jsonl', 'merged_distortions_old.jsonl')\n"
      ]
    },
    {
      "cell_type": "code",
      "source": [
        "import json\n",
        "\n",
        "def convert_prompt_completion_to_messages(input_path, output_path):\n",
        "    with open(input_path, 'r', encoding='utf-8') as fin, open(output_path, 'w', encoding='utf-8') as fout:\n",
        "        for line in fin:\n",
        "            data = json.loads(line)\n",
        "            prompt = data.get(\"prompt\", \"\").strip()\n",
        "            completion = data.get(\"completion\", \"\").strip()\n",
        "\n",
        "            example = {\n",
        "                \"messages\": [\n",
        "                    {\"role\": \"user\", \"content\": prompt},\n",
        "                    {\"role\": \"assistant\", \"content\": completion}\n",
        "                ]\n",
        "            }\n",
        "            fout.write(json.dumps(example, ensure_ascii=False) + \"\\n\")\n",
        "\n",
        "# 사용 예\n",
        "convert_prompt_completion_to_messages(\"merged_distortions_old.jsonl\", \"merged_distortions_output.jsonl\")\n"
      ],
      "metadata": {
        "id": "jdV7AgEoAbKZ"
      },
      "execution_count": 2,
      "outputs": []
    },
    {
      "cell_type": "code",
      "source": [],
      "metadata": {
        "id": "ff98SAN9ApHo"
      },
      "execution_count": 2,
      "outputs": []
    },
    {
      "cell_type": "code",
      "source": [
        "import json\n",
        "import random\n",
        "\n",
        "# 파일 경로\n",
        "input_file = 'merged_distortions_output.jsonl'\n",
        "train_file = 'distortions_output_train.jsonl'\n",
        "valid_file = 'distortions_output_valid.jsonl'\n",
        "\n",
        "# 데이터 읽기\n",
        "with open(input_file, 'r', encoding='utf-8') as f:\n",
        "    data = [line for line in f if line.strip()]\n",
        "\n",
        "# 셔플 (재현성을 위해 seed 고정)\n",
        "random.seed(21)\n",
        "random.shuffle(data)\n",
        "\n",
        "# 9:1 비율로 split\n",
        "n_total = len(data)\n",
        "n_valid = int(n_total * 0.1)\n",
        "n_train = n_total - n_valid\n",
        "\n",
        "train_data = data[:n_train]\n",
        "valid_data = data[n_train:]\n",
        "\n",
        "# 파일로 저장\n",
        "with open(train_file, 'w', encoding='utf-8') as f:\n",
        "    for line in train_data:\n",
        "        f.write(line)\n",
        "\n",
        "with open(valid_file, 'w', encoding='utf-8') as f:\n",
        "    for line in valid_data:\n",
        "        f.write(line)\n",
        "\n",
        "print(f\"Train: {n_train}개, Valid: {n_valid}개\")\n",
        "\n"
      ],
      "metadata": {
        "colab": {
          "base_uri": "https://localhost:8080/"
        },
        "id": "9RzlwlwB8_LW",
        "outputId": "c723459f-569f-488f-b89a-49c7a0f33a49"
      },
      "execution_count": 3,
      "outputs": [
        {
          "output_type": "stream",
          "name": "stdout",
          "text": [
            "Train: 449개, Valid: 49개\n"
          ]
        }
      ]
    },
    {
      "cell_type": "code",
      "source": [],
      "metadata": {
        "id": "MDMKcwzU_Zwb"
      },
      "execution_count": null,
      "outputs": []
    }
  ]
}